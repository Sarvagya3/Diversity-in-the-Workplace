{
 "cells": [
  {
   "cell_type": "code",
   "execution_count": 1,
   "metadata": {},
   "outputs": [],
   "source": [
    "import pandas as pd\n",
    "import matplotlib.pyplot as plt"
   ]
  },
  {
   "cell_type": "code",
   "execution_count": 3,
   "metadata": {},
   "outputs": [
    {
     "data": {
      "text/html": [
       "<div>\n",
       "<style scoped>\n",
       "    .dataframe tbody tr th:only-of-type {\n",
       "        vertical-align: middle;\n",
       "    }\n",
       "\n",
       "    .dataframe tbody tr th {\n",
       "        vertical-align: top;\n",
       "    }\n",
       "\n",
       "    .dataframe thead th {\n",
       "        text-align: right;\n",
       "    }\n",
       "</style>\n",
       "<table border=\"1\" class=\"dataframe\">\n",
       "  <thead>\n",
       "    <tr style=\"text-align: right;\">\n",
       "      <th></th>\n",
       "      <th>employee_id</th>\n",
       "      <th>boss_id</th>\n",
       "      <th>dept</th>\n",
       "    </tr>\n",
       "  </thead>\n",
       "  <tbody>\n",
       "    <tr>\n",
       "      <th>0</th>\n",
       "      <td>46456</td>\n",
       "      <td>175361.0</td>\n",
       "      <td>sales</td>\n",
       "    </tr>\n",
       "    <tr>\n",
       "      <th>1</th>\n",
       "      <td>104708</td>\n",
       "      <td>29733.0</td>\n",
       "      <td>HR</td>\n",
       "    </tr>\n",
       "    <tr>\n",
       "      <th>2</th>\n",
       "      <td>120853</td>\n",
       "      <td>41991.0</td>\n",
       "      <td>sales</td>\n",
       "    </tr>\n",
       "    <tr>\n",
       "      <th>3</th>\n",
       "      <td>142630</td>\n",
       "      <td>171266.0</td>\n",
       "      <td>HR</td>\n",
       "    </tr>\n",
       "    <tr>\n",
       "      <th>4</th>\n",
       "      <td>72711</td>\n",
       "      <td>198240.0</td>\n",
       "      <td>sales</td>\n",
       "    </tr>\n",
       "  </tbody>\n",
       "</table>\n",
       "</div>"
      ],
      "text/plain": [
       "   employee_id   boss_id   dept\n",
       "0        46456  175361.0  sales\n",
       "1       104708   29733.0     HR\n",
       "2       120853   41991.0  sales\n",
       "3       142630  171266.0     HR\n",
       "4        72711  198240.0  sales"
      ]
     },
     "execution_count": 3,
     "metadata": {},
     "output_type": "execute_result"
    }
   ],
   "source": [
    "hierarchy=pd.read_csv('company_hierarchy.csv.txt')\n",
    "hierarchy.head()"
   ]
  },
  {
   "cell_type": "code",
   "execution_count": 4,
   "metadata": {},
   "outputs": [
    {
     "data": {
      "text/html": [
       "<div>\n",
       "<style scoped>\n",
       "    .dataframe tbody tr th:only-of-type {\n",
       "        vertical-align: middle;\n",
       "    }\n",
       "\n",
       "    .dataframe tbody tr th {\n",
       "        vertical-align: top;\n",
       "    }\n",
       "\n",
       "    .dataframe thead th {\n",
       "        text-align: right;\n",
       "    }\n",
       "</style>\n",
       "<table border=\"1\" class=\"dataframe\">\n",
       "  <thead>\n",
       "    <tr style=\"text-align: right;\">\n",
       "      <th></th>\n",
       "      <th>employee_id</th>\n",
       "      <th>signing_bonus</th>\n",
       "      <th>salary</th>\n",
       "      <th>degree_level</th>\n",
       "      <th>sex</th>\n",
       "      <th>yrs_experience</th>\n",
       "    </tr>\n",
       "  </thead>\n",
       "  <tbody>\n",
       "    <tr>\n",
       "      <th>0</th>\n",
       "      <td>138719</td>\n",
       "      <td>0</td>\n",
       "      <td>273000.0</td>\n",
       "      <td>Master</td>\n",
       "      <td>M</td>\n",
       "      <td>2</td>\n",
       "    </tr>\n",
       "    <tr>\n",
       "      <th>1</th>\n",
       "      <td>3192</td>\n",
       "      <td>0</td>\n",
       "      <td>301000.0</td>\n",
       "      <td>Bachelor</td>\n",
       "      <td>F</td>\n",
       "      <td>1</td>\n",
       "    </tr>\n",
       "    <tr>\n",
       "      <th>2</th>\n",
       "      <td>114657</td>\n",
       "      <td>0</td>\n",
       "      <td>261000.0</td>\n",
       "      <td>Master</td>\n",
       "      <td>F</td>\n",
       "      <td>2</td>\n",
       "    </tr>\n",
       "    <tr>\n",
       "      <th>3</th>\n",
       "      <td>29039</td>\n",
       "      <td>0</td>\n",
       "      <td>86000.0</td>\n",
       "      <td>High_School</td>\n",
       "      <td>F</td>\n",
       "      <td>4</td>\n",
       "    </tr>\n",
       "    <tr>\n",
       "      <th>4</th>\n",
       "      <td>118607</td>\n",
       "      <td>0</td>\n",
       "      <td>126000.0</td>\n",
       "      <td>Bachelor</td>\n",
       "      <td>F</td>\n",
       "      <td>3</td>\n",
       "    </tr>\n",
       "  </tbody>\n",
       "</table>\n",
       "</div>"
      ],
      "text/plain": [
       "   employee_id  signing_bonus    salary degree_level sex  yrs_experience\n",
       "0       138719              0  273000.0       Master   M               2\n",
       "1         3192              0  301000.0     Bachelor   F               1\n",
       "2       114657              0  261000.0       Master   F               2\n",
       "3        29039              0   86000.0  High_School   F               4\n",
       "4       118607              0  126000.0     Bachelor   F               3"
      ]
     },
     "execution_count": 4,
     "metadata": {},
     "output_type": "execute_result"
    }
   ],
   "source": [
    "employee=pd.read_csv('employee.csv.txt')\n",
    "employee.head()"
   ]
  },
  {
   "cell_type": "code",
   "execution_count": 149,
   "metadata": {},
   "outputs": [
    {
     "data": {
      "text/html": [
       "<div>\n",
       "<style scoped>\n",
       "    .dataframe tbody tr th:only-of-type {\n",
       "        vertical-align: middle;\n",
       "    }\n",
       "\n",
       "    .dataframe tbody tr th {\n",
       "        vertical-align: top;\n",
       "    }\n",
       "\n",
       "    .dataframe thead th {\n",
       "        text-align: right;\n",
       "    }\n",
       "</style>\n",
       "<table border=\"1\" class=\"dataframe\">\n",
       "  <thead>\n",
       "    <tr style=\"text-align: right;\">\n",
       "      <th></th>\n",
       "      <th>employee_id</th>\n",
       "      <th>boss_id</th>\n",
       "      <th>dept</th>\n",
       "      <th>signing_bonus</th>\n",
       "      <th>salary</th>\n",
       "      <th>degree_level</th>\n",
       "      <th>sex</th>\n",
       "      <th>yrs_experience</th>\n",
       "    </tr>\n",
       "  </thead>\n",
       "  <tbody>\n",
       "    <tr>\n",
       "      <th>0</th>\n",
       "      <td>46456</td>\n",
       "      <td>175361.0</td>\n",
       "      <td>sales</td>\n",
       "      <td>0</td>\n",
       "      <td>213000.0</td>\n",
       "      <td>Bachelor</td>\n",
       "      <td>M</td>\n",
       "      <td>5</td>\n",
       "    </tr>\n",
       "    <tr>\n",
       "      <th>1</th>\n",
       "      <td>104708</td>\n",
       "      <td>29733.0</td>\n",
       "      <td>HR</td>\n",
       "      <td>0</td>\n",
       "      <td>79000.0</td>\n",
       "      <td>Bachelor</td>\n",
       "      <td>F</td>\n",
       "      <td>3</td>\n",
       "    </tr>\n",
       "    <tr>\n",
       "      <th>2</th>\n",
       "      <td>120853</td>\n",
       "      <td>41991.0</td>\n",
       "      <td>sales</td>\n",
       "      <td>0</td>\n",
       "      <td>199000.0</td>\n",
       "      <td>High_School</td>\n",
       "      <td>M</td>\n",
       "      <td>5</td>\n",
       "    </tr>\n",
       "    <tr>\n",
       "      <th>3</th>\n",
       "      <td>142630</td>\n",
       "      <td>171266.0</td>\n",
       "      <td>HR</td>\n",
       "      <td>0</td>\n",
       "      <td>143000.0</td>\n",
       "      <td>PhD</td>\n",
       "      <td>F</td>\n",
       "      <td>13</td>\n",
       "    </tr>\n",
       "    <tr>\n",
       "      <th>4</th>\n",
       "      <td>72711</td>\n",
       "      <td>198240.0</td>\n",
       "      <td>sales</td>\n",
       "      <td>0</td>\n",
       "      <td>235000.0</td>\n",
       "      <td>Master</td>\n",
       "      <td>M</td>\n",
       "      <td>1</td>\n",
       "    </tr>\n",
       "  </tbody>\n",
       "</table>\n",
       "</div>"
      ],
      "text/plain": [
       "   employee_id   boss_id   dept  signing_bonus    salary degree_level sex  \\\n",
       "0        46456  175361.0  sales              0  213000.0     Bachelor   M   \n",
       "1       104708   29733.0     HR              0   79000.0     Bachelor   F   \n",
       "2       120853   41991.0  sales              0  199000.0  High_School   M   \n",
       "3       142630  171266.0     HR              0  143000.0          PhD   F   \n",
       "4        72711  198240.0  sales              0  235000.0       Master   M   \n",
       "\n",
       "   yrs_experience  \n",
       "0               5  \n",
       "1               3  \n",
       "2               5  \n",
       "3              13  \n",
       "4               1  "
      ]
     },
     "execution_count": 149,
     "metadata": {},
     "output_type": "execute_result"
    }
   ],
   "source": [
    "df=pd.merge(hierarchy,employee,on='employee_id')\n",
    "df.head()"
   ]
  },
  {
   "cell_type": "markdown",
   "metadata": {},
   "source": [
    "### Question 1"
   ]
  },
  {
   "cell_type": "markdown",
   "metadata": {},
   "source": [
    "In the company there are 6 levels (described below). Identify, for each employee, her corresponding level.\n",
    "\n",
    "Individual Contributors (IC) - they don't manage anyone\n",
    "\n",
    "Middle Managers (MM) - they are the direct bosses of IC\n",
    "\n",
    "Directors (D) - they are the direct bosses of MM\n",
    "\n",
    "VP - D direct bosses\n",
    "\n",
    "Executives (E) - VP direct bosses\n",
    "\n",
    "CEO - The direct boss of E."
   ]
  },
  {
   "cell_type": "code",
   "execution_count": 150,
   "metadata": {},
   "outputs": [
    {
     "data": {
      "text/plain": [
       "array(['sales', 'HR', 'engineering', 'marketing', 'CEO'], dtype=object)"
      ]
     },
     "execution_count": 150,
     "metadata": {},
     "output_type": "execute_result"
    }
   ],
   "source": [
    "df['dept'].unique()"
   ]
  },
  {
   "cell_type": "code",
   "execution_count": 151,
   "metadata": {},
   "outputs": [],
   "source": [
    "levels=['CEO','E','VP','D','MM','IC']\n",
    "\n",
    "#Starting point\n",
    "df.loc[df['dept']=='CEO','level']='CEO'\n",
    "\n",
    "\n",
    "def assign_level(df):\n",
    "    for i in range(len(levels)-1):\n",
    "        boss_level=levels[i]\n",
    "        employee_level=levels[i+1]\n",
    "        boss_id=df[df['level']==boss_level].employee_id\n",
    "        df.loc[df['boss_id'].isin(boss_id),'level']= employee_level\n",
    "    return df\n",
    "\n",
    "        \n",
    "            "
   ]
  },
  {
   "cell_type": "code",
   "execution_count": 152,
   "metadata": {
    "collapsed": true
   },
   "outputs": [
    {
     "data": {
      "text/html": [
       "<div>\n",
       "<style scoped>\n",
       "    .dataframe tbody tr th:only-of-type {\n",
       "        vertical-align: middle;\n",
       "    }\n",
       "\n",
       "    .dataframe tbody tr th {\n",
       "        vertical-align: top;\n",
       "    }\n",
       "\n",
       "    .dataframe thead th {\n",
       "        text-align: right;\n",
       "    }\n",
       "</style>\n",
       "<table border=\"1\" class=\"dataframe\">\n",
       "  <thead>\n",
       "    <tr style=\"text-align: right;\">\n",
       "      <th></th>\n",
       "      <th>employee_id</th>\n",
       "      <th>boss_id</th>\n",
       "      <th>dept</th>\n",
       "      <th>signing_bonus</th>\n",
       "      <th>salary</th>\n",
       "      <th>degree_level</th>\n",
       "      <th>sex</th>\n",
       "      <th>yrs_experience</th>\n",
       "      <th>level</th>\n",
       "    </tr>\n",
       "  </thead>\n",
       "  <tbody>\n",
       "    <tr>\n",
       "      <th>0</th>\n",
       "      <td>46456</td>\n",
       "      <td>175361.0</td>\n",
       "      <td>sales</td>\n",
       "      <td>0</td>\n",
       "      <td>213000.0</td>\n",
       "      <td>Bachelor</td>\n",
       "      <td>M</td>\n",
       "      <td>5</td>\n",
       "      <td>IC</td>\n",
       "    </tr>\n",
       "    <tr>\n",
       "      <th>1</th>\n",
       "      <td>104708</td>\n",
       "      <td>29733.0</td>\n",
       "      <td>HR</td>\n",
       "      <td>0</td>\n",
       "      <td>79000.0</td>\n",
       "      <td>Bachelor</td>\n",
       "      <td>F</td>\n",
       "      <td>3</td>\n",
       "      <td>IC</td>\n",
       "    </tr>\n",
       "    <tr>\n",
       "      <th>2</th>\n",
       "      <td>120853</td>\n",
       "      <td>41991.0</td>\n",
       "      <td>sales</td>\n",
       "      <td>0</td>\n",
       "      <td>199000.0</td>\n",
       "      <td>High_School</td>\n",
       "      <td>M</td>\n",
       "      <td>5</td>\n",
       "      <td>IC</td>\n",
       "    </tr>\n",
       "    <tr>\n",
       "      <th>3</th>\n",
       "      <td>142630</td>\n",
       "      <td>171266.0</td>\n",
       "      <td>HR</td>\n",
       "      <td>0</td>\n",
       "      <td>143000.0</td>\n",
       "      <td>PhD</td>\n",
       "      <td>F</td>\n",
       "      <td>13</td>\n",
       "      <td>MM</td>\n",
       "    </tr>\n",
       "    <tr>\n",
       "      <th>4</th>\n",
       "      <td>72711</td>\n",
       "      <td>198240.0</td>\n",
       "      <td>sales</td>\n",
       "      <td>0</td>\n",
       "      <td>235000.0</td>\n",
       "      <td>Master</td>\n",
       "      <td>M</td>\n",
       "      <td>1</td>\n",
       "      <td>IC</td>\n",
       "    </tr>\n",
       "    <tr>\n",
       "      <th>5</th>\n",
       "      <td>61704</td>\n",
       "      <td>53109.0</td>\n",
       "      <td>sales</td>\n",
       "      <td>0</td>\n",
       "      <td>196000.0</td>\n",
       "      <td>High_School</td>\n",
       "      <td>M</td>\n",
       "      <td>3</td>\n",
       "      <td>IC</td>\n",
       "    </tr>\n",
       "    <tr>\n",
       "      <th>6</th>\n",
       "      <td>153072</td>\n",
       "      <td>67178.0</td>\n",
       "      <td>HR</td>\n",
       "      <td>0</td>\n",
       "      <td>99000.0</td>\n",
       "      <td>PhD</td>\n",
       "      <td>M</td>\n",
       "      <td>3</td>\n",
       "      <td>IC</td>\n",
       "    </tr>\n",
       "    <tr>\n",
       "      <th>7</th>\n",
       "      <td>58903</td>\n",
       "      <td>150290.0</td>\n",
       "      <td>HR</td>\n",
       "      <td>1</td>\n",
       "      <td>78000.0</td>\n",
       "      <td>PhD</td>\n",
       "      <td>M</td>\n",
       "      <td>5</td>\n",
       "      <td>IC</td>\n",
       "    </tr>\n",
       "    <tr>\n",
       "      <th>8</th>\n",
       "      <td>166034</td>\n",
       "      <td>116750.0</td>\n",
       "      <td>engineering</td>\n",
       "      <td>1</td>\n",
       "      <td>379000.0</td>\n",
       "      <td>Master</td>\n",
       "      <td>M</td>\n",
       "      <td>6</td>\n",
       "      <td>IC</td>\n",
       "    </tr>\n",
       "    <tr>\n",
       "      <th>9</th>\n",
       "      <td>54819</td>\n",
       "      <td>182038.0</td>\n",
       "      <td>sales</td>\n",
       "      <td>0</td>\n",
       "      <td>249000.0</td>\n",
       "      <td>Master</td>\n",
       "      <td>F</td>\n",
       "      <td>6</td>\n",
       "      <td>IC</td>\n",
       "    </tr>\n",
       "    <tr>\n",
       "      <th>10</th>\n",
       "      <td>107842</td>\n",
       "      <td>62043.0</td>\n",
       "      <td>engineering</td>\n",
       "      <td>0</td>\n",
       "      <td>363000.0</td>\n",
       "      <td>High_School</td>\n",
       "      <td>M</td>\n",
       "      <td>2</td>\n",
       "      <td>IC</td>\n",
       "    </tr>\n",
       "    <tr>\n",
       "      <th>11</th>\n",
       "      <td>18437</td>\n",
       "      <td>132187.0</td>\n",
       "      <td>engineering</td>\n",
       "      <td>0</td>\n",
       "      <td>389000.0</td>\n",
       "      <td>PhD</td>\n",
       "      <td>M</td>\n",
       "      <td>3</td>\n",
       "      <td>IC</td>\n",
       "    </tr>\n",
       "    <tr>\n",
       "      <th>12</th>\n",
       "      <td>51293</td>\n",
       "      <td>172989.0</td>\n",
       "      <td>sales</td>\n",
       "      <td>0</td>\n",
       "      <td>337000.0</td>\n",
       "      <td>Master</td>\n",
       "      <td>F</td>\n",
       "      <td>4</td>\n",
       "      <td>MM</td>\n",
       "    </tr>\n",
       "    <tr>\n",
       "      <th>13</th>\n",
       "      <td>92958</td>\n",
       "      <td>91002.0</td>\n",
       "      <td>marketing</td>\n",
       "      <td>0</td>\n",
       "      <td>256000.0</td>\n",
       "      <td>PhD</td>\n",
       "      <td>M</td>\n",
       "      <td>1</td>\n",
       "      <td>IC</td>\n",
       "    </tr>\n",
       "    <tr>\n",
       "      <th>14</th>\n",
       "      <td>159095</td>\n",
       "      <td>52319.0</td>\n",
       "      <td>sales</td>\n",
       "      <td>1</td>\n",
       "      <td>357000.0</td>\n",
       "      <td>Bachelor</td>\n",
       "      <td>M</td>\n",
       "      <td>1</td>\n",
       "      <td>IC</td>\n",
       "    </tr>\n",
       "    <tr>\n",
       "      <th>15</th>\n",
       "      <td>159906</td>\n",
       "      <td>65174.0</td>\n",
       "      <td>sales</td>\n",
       "      <td>0</td>\n",
       "      <td>105000.0</td>\n",
       "      <td>Bachelor</td>\n",
       "      <td>M</td>\n",
       "      <td>2</td>\n",
       "      <td>MM</td>\n",
       "    </tr>\n",
       "    <tr>\n",
       "      <th>16</th>\n",
       "      <td>113474</td>\n",
       "      <td>198648.0</td>\n",
       "      <td>marketing</td>\n",
       "      <td>0</td>\n",
       "      <td>145000.0</td>\n",
       "      <td>PhD</td>\n",
       "      <td>F</td>\n",
       "      <td>3</td>\n",
       "      <td>IC</td>\n",
       "    </tr>\n",
       "    <tr>\n",
       "      <th>17</th>\n",
       "      <td>86645</td>\n",
       "      <td>55431.0</td>\n",
       "      <td>sales</td>\n",
       "      <td>1</td>\n",
       "      <td>97000.0</td>\n",
       "      <td>Bachelor</td>\n",
       "      <td>M</td>\n",
       "      <td>1</td>\n",
       "      <td>IC</td>\n",
       "    </tr>\n",
       "    <tr>\n",
       "      <th>18</th>\n",
       "      <td>165454</td>\n",
       "      <td>8812.0</td>\n",
       "      <td>HR</td>\n",
       "      <td>0</td>\n",
       "      <td>83000.0</td>\n",
       "      <td>High_School</td>\n",
       "      <td>F</td>\n",
       "      <td>2</td>\n",
       "      <td>IC</td>\n",
       "    </tr>\n",
       "    <tr>\n",
       "      <th>19</th>\n",
       "      <td>169231</td>\n",
       "      <td>164851.0</td>\n",
       "      <td>sales</td>\n",
       "      <td>0</td>\n",
       "      <td>162000.0</td>\n",
       "      <td>PhD</td>\n",
       "      <td>M</td>\n",
       "      <td>5</td>\n",
       "      <td>MM</td>\n",
       "    </tr>\n",
       "    <tr>\n",
       "      <th>20</th>\n",
       "      <td>27940</td>\n",
       "      <td>168951.0</td>\n",
       "      <td>sales</td>\n",
       "      <td>1</td>\n",
       "      <td>288000.0</td>\n",
       "      <td>High_School</td>\n",
       "      <td>M</td>\n",
       "      <td>5</td>\n",
       "      <td>IC</td>\n",
       "    </tr>\n",
       "    <tr>\n",
       "      <th>21</th>\n",
       "      <td>179769</td>\n",
       "      <td>73893.0</td>\n",
       "      <td>sales</td>\n",
       "      <td>1</td>\n",
       "      <td>213000.0</td>\n",
       "      <td>Master</td>\n",
       "      <td>M</td>\n",
       "      <td>1</td>\n",
       "      <td>IC</td>\n",
       "    </tr>\n",
       "    <tr>\n",
       "      <th>22</th>\n",
       "      <td>32146</td>\n",
       "      <td>21470.0</td>\n",
       "      <td>marketing</td>\n",
       "      <td>1</td>\n",
       "      <td>303000.0</td>\n",
       "      <td>PhD</td>\n",
       "      <td>M</td>\n",
       "      <td>3</td>\n",
       "      <td>IC</td>\n",
       "    </tr>\n",
       "    <tr>\n",
       "      <th>23</th>\n",
       "      <td>163892</td>\n",
       "      <td>132399.0</td>\n",
       "      <td>sales</td>\n",
       "      <td>0</td>\n",
       "      <td>121000.0</td>\n",
       "      <td>High_School</td>\n",
       "      <td>M</td>\n",
       "      <td>1</td>\n",
       "      <td>IC</td>\n",
       "    </tr>\n",
       "    <tr>\n",
       "      <th>24</th>\n",
       "      <td>198889</td>\n",
       "      <td>162035.0</td>\n",
       "      <td>sales</td>\n",
       "      <td>0</td>\n",
       "      <td>251000.0</td>\n",
       "      <td>PhD</td>\n",
       "      <td>F</td>\n",
       "      <td>1</td>\n",
       "      <td>IC</td>\n",
       "    </tr>\n",
       "    <tr>\n",
       "      <th>25</th>\n",
       "      <td>150158</td>\n",
       "      <td>87847.0</td>\n",
       "      <td>sales</td>\n",
       "      <td>0</td>\n",
       "      <td>297000.0</td>\n",
       "      <td>High_School</td>\n",
       "      <td>M</td>\n",
       "      <td>4</td>\n",
       "      <td>IC</td>\n",
       "    </tr>\n",
       "    <tr>\n",
       "      <th>26</th>\n",
       "      <td>88019</td>\n",
       "      <td>102632.0</td>\n",
       "      <td>marketing</td>\n",
       "      <td>0</td>\n",
       "      <td>302000.0</td>\n",
       "      <td>High_School</td>\n",
       "      <td>F</td>\n",
       "      <td>3</td>\n",
       "      <td>IC</td>\n",
       "    </tr>\n",
       "    <tr>\n",
       "      <th>27</th>\n",
       "      <td>34992</td>\n",
       "      <td>88370.0</td>\n",
       "      <td>HR</td>\n",
       "      <td>0</td>\n",
       "      <td>72000.0</td>\n",
       "      <td>Master</td>\n",
       "      <td>F</td>\n",
       "      <td>1</td>\n",
       "      <td>IC</td>\n",
       "    </tr>\n",
       "    <tr>\n",
       "      <th>28</th>\n",
       "      <td>78222</td>\n",
       "      <td>67931.0</td>\n",
       "      <td>engineering</td>\n",
       "      <td>1</td>\n",
       "      <td>328000.0</td>\n",
       "      <td>Bachelor</td>\n",
       "      <td>F</td>\n",
       "      <td>3</td>\n",
       "      <td>IC</td>\n",
       "    </tr>\n",
       "    <tr>\n",
       "      <th>29</th>\n",
       "      <td>8889</td>\n",
       "      <td>21086.0</td>\n",
       "      <td>HR</td>\n",
       "      <td>0</td>\n",
       "      <td>92000.0</td>\n",
       "      <td>High_School</td>\n",
       "      <td>M</td>\n",
       "      <td>4</td>\n",
       "      <td>IC</td>\n",
       "    </tr>\n",
       "    <tr>\n",
       "      <th>...</th>\n",
       "      <td>...</td>\n",
       "      <td>...</td>\n",
       "      <td>...</td>\n",
       "      <td>...</td>\n",
       "      <td>...</td>\n",
       "      <td>...</td>\n",
       "      <td>...</td>\n",
       "      <td>...</td>\n",
       "      <td>...</td>\n",
       "    </tr>\n",
       "    <tr>\n",
       "      <th>9970</th>\n",
       "      <td>19003</td>\n",
       "      <td>110508.0</td>\n",
       "      <td>engineering</td>\n",
       "      <td>0</td>\n",
       "      <td>257000.0</td>\n",
       "      <td>Bachelor</td>\n",
       "      <td>F</td>\n",
       "      <td>4</td>\n",
       "      <td>IC</td>\n",
       "    </tr>\n",
       "    <tr>\n",
       "      <th>9971</th>\n",
       "      <td>92226</td>\n",
       "      <td>198875.0</td>\n",
       "      <td>engineering</td>\n",
       "      <td>0</td>\n",
       "      <td>113000.0</td>\n",
       "      <td>Master</td>\n",
       "      <td>M</td>\n",
       "      <td>3</td>\n",
       "      <td>IC</td>\n",
       "    </tr>\n",
       "    <tr>\n",
       "      <th>9972</th>\n",
       "      <td>171129</td>\n",
       "      <td>94039.0</td>\n",
       "      <td>sales</td>\n",
       "      <td>1</td>\n",
       "      <td>273000.0</td>\n",
       "      <td>Master</td>\n",
       "      <td>F</td>\n",
       "      <td>4</td>\n",
       "      <td>IC</td>\n",
       "    </tr>\n",
       "    <tr>\n",
       "      <th>9973</th>\n",
       "      <td>135398</td>\n",
       "      <td>75705.0</td>\n",
       "      <td>HR</td>\n",
       "      <td>0</td>\n",
       "      <td>61000.0</td>\n",
       "      <td>PhD</td>\n",
       "      <td>F</td>\n",
       "      <td>2</td>\n",
       "      <td>IC</td>\n",
       "    </tr>\n",
       "    <tr>\n",
       "      <th>9974</th>\n",
       "      <td>71308</td>\n",
       "      <td>116289.0</td>\n",
       "      <td>engineering</td>\n",
       "      <td>1</td>\n",
       "      <td>206000.0</td>\n",
       "      <td>PhD</td>\n",
       "      <td>M</td>\n",
       "      <td>3</td>\n",
       "      <td>IC</td>\n",
       "    </tr>\n",
       "    <tr>\n",
       "      <th>9975</th>\n",
       "      <td>184511</td>\n",
       "      <td>70547.0</td>\n",
       "      <td>marketing</td>\n",
       "      <td>0</td>\n",
       "      <td>273000.0</td>\n",
       "      <td>Bachelor</td>\n",
       "      <td>F</td>\n",
       "      <td>8</td>\n",
       "      <td>IC</td>\n",
       "    </tr>\n",
       "    <tr>\n",
       "      <th>9976</th>\n",
       "      <td>33908</td>\n",
       "      <td>70406.0</td>\n",
       "      <td>marketing</td>\n",
       "      <td>0</td>\n",
       "      <td>171000.0</td>\n",
       "      <td>Master</td>\n",
       "      <td>F</td>\n",
       "      <td>3</td>\n",
       "      <td>IC</td>\n",
       "    </tr>\n",
       "    <tr>\n",
       "      <th>9977</th>\n",
       "      <td>139035</td>\n",
       "      <td>175548.0</td>\n",
       "      <td>HR</td>\n",
       "      <td>0</td>\n",
       "      <td>98000.0</td>\n",
       "      <td>Bachelor</td>\n",
       "      <td>M</td>\n",
       "      <td>3</td>\n",
       "      <td>IC</td>\n",
       "    </tr>\n",
       "    <tr>\n",
       "      <th>9978</th>\n",
       "      <td>64802</td>\n",
       "      <td>779.0</td>\n",
       "      <td>marketing</td>\n",
       "      <td>1</td>\n",
       "      <td>157000.0</td>\n",
       "      <td>PhD</td>\n",
       "      <td>F</td>\n",
       "      <td>2</td>\n",
       "      <td>IC</td>\n",
       "    </tr>\n",
       "    <tr>\n",
       "      <th>9979</th>\n",
       "      <td>137595</td>\n",
       "      <td>82463.0</td>\n",
       "      <td>marketing</td>\n",
       "      <td>0</td>\n",
       "      <td>243000.0</td>\n",
       "      <td>Bachelor</td>\n",
       "      <td>M</td>\n",
       "      <td>6</td>\n",
       "      <td>IC</td>\n",
       "    </tr>\n",
       "    <tr>\n",
       "      <th>9980</th>\n",
       "      <td>132109</td>\n",
       "      <td>167877.0</td>\n",
       "      <td>sales</td>\n",
       "      <td>0</td>\n",
       "      <td>190000.0</td>\n",
       "      <td>High_School</td>\n",
       "      <td>M</td>\n",
       "      <td>2</td>\n",
       "      <td>IC</td>\n",
       "    </tr>\n",
       "    <tr>\n",
       "      <th>9981</th>\n",
       "      <td>57499</td>\n",
       "      <td>129410.0</td>\n",
       "      <td>sales</td>\n",
       "      <td>0</td>\n",
       "      <td>157000.0</td>\n",
       "      <td>Bachelor</td>\n",
       "      <td>M</td>\n",
       "      <td>9</td>\n",
       "      <td>IC</td>\n",
       "    </tr>\n",
       "    <tr>\n",
       "      <th>9982</th>\n",
       "      <td>109254</td>\n",
       "      <td>191418.0</td>\n",
       "      <td>sales</td>\n",
       "      <td>0</td>\n",
       "      <td>213000.0</td>\n",
       "      <td>PhD</td>\n",
       "      <td>M</td>\n",
       "      <td>4</td>\n",
       "      <td>MM</td>\n",
       "    </tr>\n",
       "    <tr>\n",
       "      <th>9983</th>\n",
       "      <td>110210</td>\n",
       "      <td>7255.0</td>\n",
       "      <td>engineering</td>\n",
       "      <td>1</td>\n",
       "      <td>153000.0</td>\n",
       "      <td>PhD</td>\n",
       "      <td>M</td>\n",
       "      <td>1</td>\n",
       "      <td>IC</td>\n",
       "    </tr>\n",
       "    <tr>\n",
       "      <th>9984</th>\n",
       "      <td>96664</td>\n",
       "      <td>125912.0</td>\n",
       "      <td>marketing</td>\n",
       "      <td>0</td>\n",
       "      <td>160000.0</td>\n",
       "      <td>PhD</td>\n",
       "      <td>M</td>\n",
       "      <td>11</td>\n",
       "      <td>MM</td>\n",
       "    </tr>\n",
       "    <tr>\n",
       "      <th>9985</th>\n",
       "      <td>181062</td>\n",
       "      <td>55476.0</td>\n",
       "      <td>marketing</td>\n",
       "      <td>1</td>\n",
       "      <td>134000.0</td>\n",
       "      <td>Master</td>\n",
       "      <td>F</td>\n",
       "      <td>6</td>\n",
       "      <td>IC</td>\n",
       "    </tr>\n",
       "    <tr>\n",
       "      <th>9986</th>\n",
       "      <td>1310</td>\n",
       "      <td>71130.0</td>\n",
       "      <td>engineering</td>\n",
       "      <td>1</td>\n",
       "      <td>254000.0</td>\n",
       "      <td>Master</td>\n",
       "      <td>M</td>\n",
       "      <td>3</td>\n",
       "      <td>IC</td>\n",
       "    </tr>\n",
       "    <tr>\n",
       "      <th>9987</th>\n",
       "      <td>181199</td>\n",
       "      <td>51288.0</td>\n",
       "      <td>engineering</td>\n",
       "      <td>0</td>\n",
       "      <td>251000.0</td>\n",
       "      <td>Master</td>\n",
       "      <td>F</td>\n",
       "      <td>5</td>\n",
       "      <td>IC</td>\n",
       "    </tr>\n",
       "    <tr>\n",
       "      <th>9988</th>\n",
       "      <td>164637</td>\n",
       "      <td>73893.0</td>\n",
       "      <td>sales</td>\n",
       "      <td>0</td>\n",
       "      <td>247000.0</td>\n",
       "      <td>Bachelor</td>\n",
       "      <td>M</td>\n",
       "      <td>4</td>\n",
       "      <td>IC</td>\n",
       "    </tr>\n",
       "    <tr>\n",
       "      <th>9989</th>\n",
       "      <td>89731</td>\n",
       "      <td>186086.0</td>\n",
       "      <td>engineering</td>\n",
       "      <td>0</td>\n",
       "      <td>159000.0</td>\n",
       "      <td>Bachelor</td>\n",
       "      <td>M</td>\n",
       "      <td>2</td>\n",
       "      <td>IC</td>\n",
       "    </tr>\n",
       "    <tr>\n",
       "      <th>9990</th>\n",
       "      <td>128913</td>\n",
       "      <td>116119.0</td>\n",
       "      <td>marketing</td>\n",
       "      <td>1</td>\n",
       "      <td>148000.0</td>\n",
       "      <td>Master</td>\n",
       "      <td>M</td>\n",
       "      <td>3</td>\n",
       "      <td>IC</td>\n",
       "    </tr>\n",
       "    <tr>\n",
       "      <th>9991</th>\n",
       "      <td>60287</td>\n",
       "      <td>181886.0</td>\n",
       "      <td>sales</td>\n",
       "      <td>1</td>\n",
       "      <td>63000.0</td>\n",
       "      <td>Master</td>\n",
       "      <td>M</td>\n",
       "      <td>3</td>\n",
       "      <td>IC</td>\n",
       "    </tr>\n",
       "    <tr>\n",
       "      <th>9992</th>\n",
       "      <td>75821</td>\n",
       "      <td>133927.0</td>\n",
       "      <td>engineering</td>\n",
       "      <td>1</td>\n",
       "      <td>367000.0</td>\n",
       "      <td>Bachelor</td>\n",
       "      <td>M</td>\n",
       "      <td>4</td>\n",
       "      <td>IC</td>\n",
       "    </tr>\n",
       "    <tr>\n",
       "      <th>9993</th>\n",
       "      <td>43404</td>\n",
       "      <td>5889.0</td>\n",
       "      <td>HR</td>\n",
       "      <td>1</td>\n",
       "      <td>63000.0</td>\n",
       "      <td>Bachelor</td>\n",
       "      <td>F</td>\n",
       "      <td>2</td>\n",
       "      <td>IC</td>\n",
       "    </tr>\n",
       "    <tr>\n",
       "      <th>9994</th>\n",
       "      <td>38210</td>\n",
       "      <td>84828.0</td>\n",
       "      <td>engineering</td>\n",
       "      <td>0</td>\n",
       "      <td>69000.0</td>\n",
       "      <td>Bachelor</td>\n",
       "      <td>M</td>\n",
       "      <td>4</td>\n",
       "      <td>IC</td>\n",
       "    </tr>\n",
       "    <tr>\n",
       "      <th>9995</th>\n",
       "      <td>45022</td>\n",
       "      <td>154703.0</td>\n",
       "      <td>engineering</td>\n",
       "      <td>0</td>\n",
       "      <td>185000.0</td>\n",
       "      <td>Master</td>\n",
       "      <td>M</td>\n",
       "      <td>3</td>\n",
       "      <td>IC</td>\n",
       "    </tr>\n",
       "    <tr>\n",
       "      <th>9996</th>\n",
       "      <td>173414</td>\n",
       "      <td>171461.0</td>\n",
       "      <td>HR</td>\n",
       "      <td>0</td>\n",
       "      <td>70000.0</td>\n",
       "      <td>Bachelor</td>\n",
       "      <td>F</td>\n",
       "      <td>1</td>\n",
       "      <td>IC</td>\n",
       "    </tr>\n",
       "    <tr>\n",
       "      <th>9997</th>\n",
       "      <td>194688</td>\n",
       "      <td>161727.0</td>\n",
       "      <td>engineering</td>\n",
       "      <td>0</td>\n",
       "      <td>346000.0</td>\n",
       "      <td>High_School</td>\n",
       "      <td>M</td>\n",
       "      <td>2</td>\n",
       "      <td>IC</td>\n",
       "    </tr>\n",
       "    <tr>\n",
       "      <th>9998</th>\n",
       "      <td>11698</td>\n",
       "      <td>75242.0</td>\n",
       "      <td>engineering</td>\n",
       "      <td>1</td>\n",
       "      <td>304000.0</td>\n",
       "      <td>High_School</td>\n",
       "      <td>F</td>\n",
       "      <td>1</td>\n",
       "      <td>IC</td>\n",
       "    </tr>\n",
       "    <tr>\n",
       "      <th>9999</th>\n",
       "      <td>144338</td>\n",
       "      <td>55972.0</td>\n",
       "      <td>HR</td>\n",
       "      <td>0</td>\n",
       "      <td>71000.0</td>\n",
       "      <td>PhD</td>\n",
       "      <td>F</td>\n",
       "      <td>1</td>\n",
       "      <td>IC</td>\n",
       "    </tr>\n",
       "  </tbody>\n",
       "</table>\n",
       "<p>10000 rows × 9 columns</p>\n",
       "</div>"
      ],
      "text/plain": [
       "      employee_id   boss_id         dept  signing_bonus    salary  \\\n",
       "0           46456  175361.0        sales              0  213000.0   \n",
       "1          104708   29733.0           HR              0   79000.0   \n",
       "2          120853   41991.0        sales              0  199000.0   \n",
       "3          142630  171266.0           HR              0  143000.0   \n",
       "4           72711  198240.0        sales              0  235000.0   \n",
       "5           61704   53109.0        sales              0  196000.0   \n",
       "6          153072   67178.0           HR              0   99000.0   \n",
       "7           58903  150290.0           HR              1   78000.0   \n",
       "8          166034  116750.0  engineering              1  379000.0   \n",
       "9           54819  182038.0        sales              0  249000.0   \n",
       "10         107842   62043.0  engineering              0  363000.0   \n",
       "11          18437  132187.0  engineering              0  389000.0   \n",
       "12          51293  172989.0        sales              0  337000.0   \n",
       "13          92958   91002.0    marketing              0  256000.0   \n",
       "14         159095   52319.0        sales              1  357000.0   \n",
       "15         159906   65174.0        sales              0  105000.0   \n",
       "16         113474  198648.0    marketing              0  145000.0   \n",
       "17          86645   55431.0        sales              1   97000.0   \n",
       "18         165454    8812.0           HR              0   83000.0   \n",
       "19         169231  164851.0        sales              0  162000.0   \n",
       "20          27940  168951.0        sales              1  288000.0   \n",
       "21         179769   73893.0        sales              1  213000.0   \n",
       "22          32146   21470.0    marketing              1  303000.0   \n",
       "23         163892  132399.0        sales              0  121000.0   \n",
       "24         198889  162035.0        sales              0  251000.0   \n",
       "25         150158   87847.0        sales              0  297000.0   \n",
       "26          88019  102632.0    marketing              0  302000.0   \n",
       "27          34992   88370.0           HR              0   72000.0   \n",
       "28          78222   67931.0  engineering              1  328000.0   \n",
       "29           8889   21086.0           HR              0   92000.0   \n",
       "...           ...       ...          ...            ...       ...   \n",
       "9970        19003  110508.0  engineering              0  257000.0   \n",
       "9971        92226  198875.0  engineering              0  113000.0   \n",
       "9972       171129   94039.0        sales              1  273000.0   \n",
       "9973       135398   75705.0           HR              0   61000.0   \n",
       "9974        71308  116289.0  engineering              1  206000.0   \n",
       "9975       184511   70547.0    marketing              0  273000.0   \n",
       "9976        33908   70406.0    marketing              0  171000.0   \n",
       "9977       139035  175548.0           HR              0   98000.0   \n",
       "9978        64802     779.0    marketing              1  157000.0   \n",
       "9979       137595   82463.0    marketing              0  243000.0   \n",
       "9980       132109  167877.0        sales              0  190000.0   \n",
       "9981        57499  129410.0        sales              0  157000.0   \n",
       "9982       109254  191418.0        sales              0  213000.0   \n",
       "9983       110210    7255.0  engineering              1  153000.0   \n",
       "9984        96664  125912.0    marketing              0  160000.0   \n",
       "9985       181062   55476.0    marketing              1  134000.0   \n",
       "9986         1310   71130.0  engineering              1  254000.0   \n",
       "9987       181199   51288.0  engineering              0  251000.0   \n",
       "9988       164637   73893.0        sales              0  247000.0   \n",
       "9989        89731  186086.0  engineering              0  159000.0   \n",
       "9990       128913  116119.0    marketing              1  148000.0   \n",
       "9991        60287  181886.0        sales              1   63000.0   \n",
       "9992        75821  133927.0  engineering              1  367000.0   \n",
       "9993        43404    5889.0           HR              1   63000.0   \n",
       "9994        38210   84828.0  engineering              0   69000.0   \n",
       "9995        45022  154703.0  engineering              0  185000.0   \n",
       "9996       173414  171461.0           HR              0   70000.0   \n",
       "9997       194688  161727.0  engineering              0  346000.0   \n",
       "9998        11698   75242.0  engineering              1  304000.0   \n",
       "9999       144338   55972.0           HR              0   71000.0   \n",
       "\n",
       "     degree_level sex  yrs_experience level  \n",
       "0        Bachelor   M               5    IC  \n",
       "1        Bachelor   F               3    IC  \n",
       "2     High_School   M               5    IC  \n",
       "3             PhD   F              13    MM  \n",
       "4          Master   M               1    IC  \n",
       "5     High_School   M               3    IC  \n",
       "6             PhD   M               3    IC  \n",
       "7             PhD   M               5    IC  \n",
       "8          Master   M               6    IC  \n",
       "9          Master   F               6    IC  \n",
       "10    High_School   M               2    IC  \n",
       "11            PhD   M               3    IC  \n",
       "12         Master   F               4    MM  \n",
       "13            PhD   M               1    IC  \n",
       "14       Bachelor   M               1    IC  \n",
       "15       Bachelor   M               2    MM  \n",
       "16            PhD   F               3    IC  \n",
       "17       Bachelor   M               1    IC  \n",
       "18    High_School   F               2    IC  \n",
       "19            PhD   M               5    MM  \n",
       "20    High_School   M               5    IC  \n",
       "21         Master   M               1    IC  \n",
       "22            PhD   M               3    IC  \n",
       "23    High_School   M               1    IC  \n",
       "24            PhD   F               1    IC  \n",
       "25    High_School   M               4    IC  \n",
       "26    High_School   F               3    IC  \n",
       "27         Master   F               1    IC  \n",
       "28       Bachelor   F               3    IC  \n",
       "29    High_School   M               4    IC  \n",
       "...           ...  ..             ...   ...  \n",
       "9970     Bachelor   F               4    IC  \n",
       "9971       Master   M               3    IC  \n",
       "9972       Master   F               4    IC  \n",
       "9973          PhD   F               2    IC  \n",
       "9974          PhD   M               3    IC  \n",
       "9975     Bachelor   F               8    IC  \n",
       "9976       Master   F               3    IC  \n",
       "9977     Bachelor   M               3    IC  \n",
       "9978          PhD   F               2    IC  \n",
       "9979     Bachelor   M               6    IC  \n",
       "9980  High_School   M               2    IC  \n",
       "9981     Bachelor   M               9    IC  \n",
       "9982          PhD   M               4    MM  \n",
       "9983          PhD   M               1    IC  \n",
       "9984          PhD   M              11    MM  \n",
       "9985       Master   F               6    IC  \n",
       "9986       Master   M               3    IC  \n",
       "9987       Master   F               5    IC  \n",
       "9988     Bachelor   M               4    IC  \n",
       "9989     Bachelor   M               2    IC  \n",
       "9990       Master   M               3    IC  \n",
       "9991       Master   M               3    IC  \n",
       "9992     Bachelor   M               4    IC  \n",
       "9993     Bachelor   F               2    IC  \n",
       "9994     Bachelor   M               4    IC  \n",
       "9995       Master   M               3    IC  \n",
       "9996     Bachelor   F               1    IC  \n",
       "9997  High_School   M               2    IC  \n",
       "9998  High_School   F               1    IC  \n",
       "9999          PhD   F               1    IC  \n",
       "\n",
       "[10000 rows x 9 columns]"
      ]
     },
     "execution_count": 152,
     "metadata": {},
     "output_type": "execute_result"
    }
   ],
   "source": [
    "assign_level(df)"
   ]
  },
  {
   "cell_type": "code",
   "execution_count": 153,
   "metadata": {},
   "outputs": [
    {
     "data": {
      "text/plain": [
       "IC     9000\n",
       "MM      800\n",
       "D       160\n",
       "VP       35\n",
       "E         4\n",
       "CEO       1\n",
       "Name: level, dtype: int64"
      ]
     },
     "execution_count": 153,
     "metadata": {},
     "output_type": "execute_result"
    }
   ],
   "source": [
    "df.level.value_counts()"
   ]
  },
  {
   "cell_type": "markdown",
   "metadata": {},
   "source": [
    "### Question 2 "
   ]
  },
  {
   "cell_type": "markdown",
   "metadata": {},
   "source": [
    "How many people each employee manages? You should have a table with employee ids and the number of people managed. Consider that if John directly manages 2 people and these two people manage 5 people each, then we conclude that John manages 12 people."
   ]
  },
  {
   "cell_type": "code",
   "execution_count": 154,
   "metadata": {},
   "outputs": [],
   "source": [
    "#Starting point \n",
    "df['count']=0\n",
    "levels=['IC','MM','D',\"VP\",'E',\"CEO\"]\n",
    "for level in levels:\n",
    "    boss_ids= df[df['level']==level]['boss_id']\n",
    "    employee_ids = df[df['level'] == level]['employee_id']\n",
    "    \n",
    "    for boss,emp in zip(boss_ids,employee_ids):\n",
    "        e_counts = int(1 + df.loc[df['employee_id'] == emp, 'count'])\n",
    "        b_counts = df.loc[df['employee_id'] == boss, 'count']\n",
    "        df.loc[df['employee_id'] == boss, 'count'] = e_counts + b_counts\n",
    "    \n"
   ]
  },
  {
   "cell_type": "code",
   "execution_count": 159,
   "metadata": {},
   "outputs": [
    {
     "data": {
      "text/html": [
       "<div>\n",
       "<style scoped>\n",
       "    .dataframe tbody tr th:only-of-type {\n",
       "        vertical-align: middle;\n",
       "    }\n",
       "\n",
       "    .dataframe tbody tr th {\n",
       "        vertical-align: top;\n",
       "    }\n",
       "\n",
       "    .dataframe thead th {\n",
       "        text-align: right;\n",
       "    }\n",
       "</style>\n",
       "<table border=\"1\" class=\"dataframe\">\n",
       "  <thead>\n",
       "    <tr style=\"text-align: right;\">\n",
       "      <th></th>\n",
       "      <th>employee_id</th>\n",
       "      <th>level</th>\n",
       "      <th>count</th>\n",
       "    </tr>\n",
       "  </thead>\n",
       "  <tbody>\n",
       "    <tr>\n",
       "      <th>0</th>\n",
       "      <td>46456</td>\n",
       "      <td>IC</td>\n",
       "      <td>0</td>\n",
       "    </tr>\n",
       "    <tr>\n",
       "      <th>1</th>\n",
       "      <td>104708</td>\n",
       "      <td>IC</td>\n",
       "      <td>0</td>\n",
       "    </tr>\n",
       "    <tr>\n",
       "      <th>2</th>\n",
       "      <td>120853</td>\n",
       "      <td>IC</td>\n",
       "      <td>0</td>\n",
       "    </tr>\n",
       "    <tr>\n",
       "      <th>3</th>\n",
       "      <td>142630</td>\n",
       "      <td>MM</td>\n",
       "      <td>16</td>\n",
       "    </tr>\n",
       "    <tr>\n",
       "      <th>4</th>\n",
       "      <td>72711</td>\n",
       "      <td>IC</td>\n",
       "      <td>0</td>\n",
       "    </tr>\n",
       "  </tbody>\n",
       "</table>\n",
       "</div>"
      ],
      "text/plain": [
       "   employee_id level  count\n",
       "0        46456    IC      0\n",
       "1       104708    IC      0\n",
       "2       120853    IC      0\n",
       "3       142630    MM     16\n",
       "4        72711    IC      0"
      ]
     },
     "execution_count": 159,
     "metadata": {},
     "output_type": "execute_result"
    }
   ],
   "source": [
    "df[['employee_id', 'level', 'count']].head()"
   ]
  },
  {
   "cell_type": "markdown",
   "metadata": {},
   "source": [
    "### Question 3 "
   ]
  },
  {
   "cell_type": "markdown",
   "metadata": {},
   "source": [
    "Build a Predictive model"
   ]
  },
  {
   "cell_type": "code",
   "execution_count": 73,
   "metadata": {},
   "outputs": [],
   "source": [
    "data=df.copy()\n",
    "data=data.drop(['employee_id','boss_id','Number_of_people'],axis=1)"
   ]
  },
  {
   "cell_type": "code",
   "execution_count": 43,
   "metadata": {},
   "outputs": [
    {
     "data": {
      "image/png": "[encoded data removed]",
      "text/plain": [
       "<Figure size 576x432 with 2 Axes>"
      ]
     },
     "metadata": {
      "needs_background": "light"
     },
     "output_type": "display_data"
    }
   ],
   "source": [
    "import seaborn as sns\n",
    "fig, ax = plt.subplots(figsize=(8, 6))\n",
    "#subset = data[['signing_bonus', 'yrs_experience', 'counts', 'salary']]\n",
    "sns.heatmap(data.corr(), ax=ax)\n",
    "plt.show()"
   ]
  },
  {
   "cell_type": "markdown",
   "metadata": {},
   "source": [
    "We can keep all the features as they aren't correlated amongst themselves"
   ]
  },
  {
   "cell_type": "markdown",
   "metadata": {},
   "source": [
    "### Preparing the features"
   ]
  },
  {
   "cell_type": "code",
   "execution_count": 74,
   "metadata": {},
   "outputs": [],
   "source": [
    "#Remove the data point for the CEO as it is an outlier and we do not want it to affect the entire dataset\n",
    "data= data[data['dept'] != 'CEO']\n",
    "del(data['level'])\n"
   ]
  },
  {
   "cell_type": "code",
   "execution_count": 63,
   "metadata": {},
   "outputs": [
    {
     "data": {
      "text/html": [
       "<div>\n",
       "<style scoped>\n",
       "    .dataframe tbody tr th:only-of-type {\n",
       "        vertical-align: middle;\n",
       "    }\n",
       "\n",
       "    .dataframe tbody tr th {\n",
       "        vertical-align: top;\n",
       "    }\n",
       "\n",
       "    .dataframe thead th {\n",
       "        text-align: right;\n",
       "    }\n",
       "</style>\n",
       "<table border=\"1\" class=\"dataframe\">\n",
       "  <thead>\n",
       "    <tr style=\"text-align: right;\">\n",
       "      <th></th>\n",
       "      <th>dept</th>\n",
       "      <th>signing_bonus</th>\n",
       "      <th>salary</th>\n",
       "      <th>degree_level</th>\n",
       "      <th>sex</th>\n",
       "      <th>yrs_experience</th>\n",
       "    </tr>\n",
       "  </thead>\n",
       "  <tbody>\n",
       "    <tr>\n",
       "      <th>0</th>\n",
       "      <td>sales</td>\n",
       "      <td>0</td>\n",
       "      <td>213000.0</td>\n",
       "      <td>Bachelor</td>\n",
       "      <td>M</td>\n",
       "      <td>5</td>\n",
       "    </tr>\n",
       "    <tr>\n",
       "      <th>1</th>\n",
       "      <td>HR</td>\n",
       "      <td>0</td>\n",
       "      <td>79000.0</td>\n",
       "      <td>Bachelor</td>\n",
       "      <td>F</td>\n",
       "      <td>3</td>\n",
       "    </tr>\n",
       "    <tr>\n",
       "      <th>2</th>\n",
       "      <td>sales</td>\n",
       "      <td>0</td>\n",
       "      <td>199000.0</td>\n",
       "      <td>High_School</td>\n",
       "      <td>M</td>\n",
       "      <td>5</td>\n",
       "    </tr>\n",
       "    <tr>\n",
       "      <th>3</th>\n",
       "      <td>HR</td>\n",
       "      <td>0</td>\n",
       "      <td>143000.0</td>\n",
       "      <td>PhD</td>\n",
       "      <td>F</td>\n",
       "      <td>13</td>\n",
       "    </tr>\n",
       "    <tr>\n",
       "      <th>4</th>\n",
       "      <td>sales</td>\n",
       "      <td>0</td>\n",
       "      <td>235000.0</td>\n",
       "      <td>Master</td>\n",
       "      <td>M</td>\n",
       "      <td>1</td>\n",
       "    </tr>\n",
       "  </tbody>\n",
       "</table>\n",
       "</div>"
      ],
      "text/plain": [
       "    dept  signing_bonus    salary degree_level sex  yrs_experience\n",
       "0  sales              0  213000.0     Bachelor   M               5\n",
       "1     HR              0   79000.0     Bachelor   F               3\n",
       "2  sales              0  199000.0  High_School   M               5\n",
       "3     HR              0  143000.0          PhD   F              13\n",
       "4  sales              0  235000.0       Master   M               1"
      ]
     },
     "execution_count": 63,
     "metadata": {},
     "output_type": "execute_result"
    }
   ],
   "source": [
    "data.head()"
   ]
  },
  {
   "cell_type": "code",
   "execution_count": 75,
   "metadata": {
    "scrolled": true
   },
   "outputs": [],
   "source": [
    "#OHE on dept\n",
    "dummies=pd.get_dummies(data['dept'],prefix='dept',drop_first=True)\n",
    "data=pd.concat([data,dummies],axis=1)\n",
    "\n",
    "del(data['dept']) #dropping the orginal dept column"
   ]
  },
  {
   "cell_type": "code",
   "execution_count": 77,
   "metadata": {},
   "outputs": [],
   "source": [
    "# Label encoding for degree_level\n",
    "\n",
    "#Since the scikit learn label encoder does not let us specify our own order, I am not using that. \n",
    "data['degree_level'] = df['degree_level'].apply(lambda x: ['High_School', 'Bachelor', 'Master', 'PhD'].index(x))"
   ]
  },
  {
   "cell_type": "code",
   "execution_count": 82,
   "metadata": {
    "scrolled": true
   },
   "outputs": [],
   "source": [
    "#Encoding the sex variable\n",
    "data['is_male']=(data['sex']=='M').astype(int)\n",
    "del(data['sex'])"
   ]
  },
  {
   "cell_type": "markdown",
   "metadata": {},
   "source": [
    "Since, we'd be using regression and the number of samples in the training data are not very high, it's important to check if the dependent variable follows a normal distribution or not."
   ]
  },
  {
   "cell_type": "code",
   "execution_count": 88,
   "metadata": {},
   "outputs": [
    {
     "data": {
      "text/plain": [
       "<matplotlib.axes._subplots.AxesSubplot at 0x29edd573b70>"
      ]
     },
     "execution_count": 88,
     "metadata": {},
     "output_type": "execute_result"
    },
    {
     "data": {
      "image/png": "[encoded data removed]",
      "text/plain": [
       "<Figure size 432x288 with 1 Axes>"
      ]
     },
     "metadata": {
      "needs_background": "light"
     },
     "output_type": "display_data"
    }
   ],
   "source": [
    "data['salary'].hist()"
   ]
  },
  {
   "cell_type": "markdown",
   "metadata": {},
   "source": [
    "The data is highly skewed so we need to tranform it."
   ]
  },
  {
   "cell_type": "code",
   "execution_count": 89,
   "metadata": {},
   "outputs": [
    {
     "data": {
      "text/plain": [
       "<matplotlib.axes._subplots.AxesSubplot at 0x29edd9e8ef0>"
      ]
     },
     "execution_count": 89,
     "metadata": {},
     "output_type": "execute_result"
    },
    {
     "data": {
      "image/png": "[encoded data removed]",
      "text/plain": [
       "<Figure size 432x288 with 1 Axes>"
      ]
     },
     "metadata": {
      "needs_background": "light"
     },
     "output_type": "display_data"
    }
   ],
   "source": [
    "import numpy as np\n",
    "data['salary']=np.log(data['salary'])\n",
    "data['salary'].hist()"
   ]
  },
  {
   "cell_type": "code",
   "execution_count": 92,
   "metadata": {},
   "outputs": [],
   "source": [
    "X=data.loc[:,data.columns!='salary']\n",
    "Y=data['salary']\n"
   ]
  },
  {
   "cell_type": "code",
   "execution_count": 99,
   "metadata": {},
   "outputs": [],
   "source": [
    "#Train and test data\n",
    "from sklearn.model_selection import train_test_split\n",
    "X_train,x_test,Y_train,y_test= train_test_split(X,Y,test_size=0.2,random_state=0)"
   ]
  },
  {
   "cell_type": "markdown",
   "metadata": {},
   "source": [
    "### Parameter Tuning"
   ]
  },
  {
   "cell_type": "code",
   "execution_count": 101,
   "metadata": {},
   "outputs": [],
   "source": [
    "n_estimators=[100,500,800]\n",
    "max_features=['auto']\n",
    "max_Depth=[None,10,20]\n",
    "min_samples_split=[2,5,10]\n",
    "min_samples_leaf=[1,2,5,10]\n",
    "\n",
    "grid_param={'n_estimators':n_estimators,'max_features':max_features,'max_depth':max_Depth,'min_samples_split':min_samples_split,'min_samples_leaf':min_samples_leaf}\n"
   ]
  },
  {
   "cell_type": "code",
   "execution_count": 102,
   "metadata": {},
   "outputs": [],
   "source": [
    "from sklearn.ensemble import RandomForestRegressor\n",
    "from sklearn.model_selection import RandomizedSearchCV\n",
    "RFR= RandomForestRegressor(random_state=0)\n",
    "RFR_random=RandomizedSearchCV(estimator=RFR,param_distributions=grid_param,cv=5, random_state=42)"
   ]
  },
  {
   "cell_type": "code",
   "execution_count": 103,
   "metadata": {},
   "outputs": [
    {
     "name": "stdout",
     "output_type": "stream",
     "text": [
      "{'n_estimators': 500, 'min_samples_split': 5, 'min_samples_leaf': 10, 'max_features': 'auto', 'max_depth': 10}\n"
     ]
    }
   ],
   "source": [
    "RFR_random.fit(X_train,Y_train)\n",
    "print(RFR_random.best_params_)"
   ]
  },
  {
   "cell_type": "code",
   "execution_count": 104,
   "metadata": {},
   "outputs": [
    {
     "data": {
      "text/plain": [
       "RandomForestRegressor(bootstrap=True, ccp_alpha=0.0, criterion='mse',\n",
       "                      max_depth=10, max_features='auto', max_leaf_nodes=None,\n",
       "                      max_samples=None, min_impurity_decrease=0.0,\n",
       "                      min_impurity_split=None, min_samples_leaf=10,\n",
       "                      min_samples_split=5, min_weight_fraction_leaf=0.0,\n",
       "                      n_estimators=500, n_jobs=None, oob_score=False,\n",
       "                      random_state=42, verbose=0, warm_start=False)"
      ]
     },
     "execution_count": 104,
     "metadata": {},
     "output_type": "execute_result"
    }
   ],
   "source": [
    "#Fitting with best parameters\n",
    "\n",
    "RFR= RandomForestRegressor(n_estimators=500,min_samples_split=5,min_samples_leaf=10,max_features='auto',max_depth=10,random_state=42)\n",
    "RFR.fit(X_train,Y_train)"
   ]
  },
  {
   "cell_type": "code",
   "execution_count": 106,
   "metadata": {},
   "outputs": [],
   "source": [
    "y_pred=RFR.predict(x_test)"
   ]
  },
  {
   "cell_type": "code",
   "execution_count": 115,
   "metadata": {},
   "outputs": [
    {
     "name": "stdout",
     "output_type": "stream",
     "text": [
      "Test RMSE:\t 0.4038734945288393\n",
      "Test R2:\t 0.3924999157912933\n"
     ]
    }
   ],
   "source": [
    "from sklearn.metrics import mean_squared_error\n",
    "print('Test RMSE:\\t', np.sqrt(mean_squared_error(y_test, y_pred)))\n",
    "print('Test R2:\\t', r2_score(y_test, (y_pred)))"
   ]
  },
  {
   "cell_type": "code",
   "execution_count": 120,
   "metadata": {},
   "outputs": [],
   "source": [
    "features = list(X_train.columns)\n",
    "importances = list(RFR.feature_importances_)\n",
    "feature_importances_df = pd.DataFrame({'feature' : features, 'importance' : importances})\n",
    "feature_importances_df = feature_importances_df.sort_values(by = 'importance', ascending=False)\n",
    "feature_importances_df = feature_importances_df.iloc[0:10,:].sort_values(by = 'importance', ascending=True)"
   ]
  },
  {
   "cell_type": "code",
   "execution_count": 126,
   "metadata": {},
   "outputs": [
    {
     "data": {
      "image/png": "[encoded data removed]",
      "text/plain": [
       "<Figure size 576x360 with 1 Axes>"
      ]
     },
     "metadata": {
      "needs_background": "light"
     },
     "output_type": "display_data"
    }
   ],
   "source": [
    "plt.figure(figsize=(8, 5))\n",
    "plt.title('Feature Importances')\n",
    "plt.barh(range(0,7), feature_importances_df['importance'], color='blue', align='center')\n",
    "plt.yticks(range(0,7), [i for i in feature_importances_df.feature[0:10]])\n",
    "plt.xlabel('Relative Importance')\n",
    "plt.show()"
   ]
  },
  {
   "cell_type": "markdown",
   "metadata": {},
   "source": [
    "From the random forest, we can see that the most important features that determine the salary are the department and then the years of experience a person has. Also, looks like the gender explains the least variance in the model which is good as it indicates that there isn't a direct bias towards any gender. However, it's important to analyze the departments well and see if there is any underlying bias present."
   ]
  },
  {
   "cell_type": "code",
   "execution_count": 128,
   "metadata": {},
   "outputs": [
    {
     "data": {
      "image/png": "[encoded data removed]",
      "text/plain": [
       "<Figure size 864x288 with 2 Axes>"
      ]
     },
     "metadata": {
      "needs_background": "light"
     },
     "output_type": "display_data"
    }
   ],
   "source": [
    "#dept vs salary\n",
    "\n",
    "fig, ax = plt.subplots(nrows=1, ncols=2, figsize=(12, 4))\n",
    "sns.countplot(x='dept', data=df, ax=ax[0])\n",
    "ax[0].set_xlabel('dept', fontsize=12)\n",
    "ax[0].set_ylabel('Count', fontsize=12)\n",
    "ax[0].set_title('Count Plot of dept', fontsize=16)\n",
    "\n",
    "sns.barplot(x='dept', y='salary', data=df, ax=ax[1])\n",
    "ax[1].set_xlabel('dept', fontsize=12)\n",
    "ax[1].set_ylabel('Salary', fontsize=12)\n",
    "ax[1].set_title('Mean salary across depts', fontsize=16)\n",
    "plt.tight_layout()\n",
    "plt.show()"
   ]
  },
  {
   "cell_type": "markdown",
   "metadata": {},
   "source": [
    "We can observe that after the CEO (obviously), the highest paying departments are the engineering,marketing and the sales department. It would be interesting to look the distribution of males and females across departments."
   ]
  },
  {
   "cell_type": "code",
   "execution_count": 129,
   "metadata": {},
   "outputs": [
    {
     "data": {
      "image/png": "[encoded data removed]",
      "text/plain": [
       "<Figure size 864x360 with 2 Axes>"
      ]
     },
     "metadata": {
      "needs_background": "light"
     },
     "output_type": "display_data"
    }
   ],
   "source": [
    "fig, ax = plt.subplots(nrows=1, ncols=2, figsize=(12, 5))\n",
    "sns.countplot(x='dept', data=df, ax=ax[0])\n",
    "ax[0].set_xlabel('dept', fontsize=12)\n",
    "ax[0].set_ylabel('Count', fontsize=12)\n",
    "ax[0].set_title('Count Plot of dept', fontsize=16)\n",
    "\n",
    "sns.countplot(x='dept', data=df, hue = 'sex', ax=ax[1])\n",
    "ax[1].set_xlabel('dept', fontsize=12)\n",
    "ax[1].set_ylabel('Salary', fontsize=12)\n",
    "ax[1].set_title('Gender distribution across the departments', fontsize=16)\n",
    "plt.tight_layout()\n",
    "plt.show()\n"
   ]
  },
  {
   "cell_type": "markdown",
   "metadata": {},
   "source": [
    "After looking at these plots, we can see an interesting trend that the ratio of male employees to female employees is higher in the high paying departments like engineering and marketing. The only department where women are hired more than men in this company is the HR department which is the lowest paid department."
   ]
  },
  {
   "cell_type": "markdown",
   "metadata": {},
   "source": [
    "Now, lets find the bias which is the difference in the true and predicted salary and see the trend of bias."
   ]
  },
  {
   "cell_type": "code",
   "execution_count": 132,
   "metadata": {},
   "outputs": [],
   "source": [
    "salary_df = pd.DataFrame({'true_salary' :  y_test , 'predicted_salary' : y_pred, 'bias' :y_test - y_pred})"
   ]
  },
  {
   "cell_type": "code",
   "execution_count": 133,
   "metadata": {},
   "outputs": [
    {
     "data": {
      "text/plain": [
       "<matplotlib.axes._subplots.AxesSubplot at 0x29ee21a3860>"
      ]
     },
     "execution_count": 133,
     "metadata": {},
     "output_type": "execute_result"
    },
    {
     "data": {
      "image/png": "[encoded data removed]",
      "text/plain": [
       "<Figure size 432x288 with 1 Axes>"
      ]
     },
     "metadata": {
      "needs_background": "light"
     },
     "output_type": "display_data"
    }
   ],
   "source": [
    "sns.distplot(salary_df['true_salary'],  kde=False, rug=True)"
   ]
  },
  {
   "cell_type": "code",
   "execution_count": 134,
   "metadata": {},
   "outputs": [
    {
     "data": {
      "text/plain": [
       "<matplotlib.axes._subplots.AxesSubplot at 0x29ee219bb00>"
      ]
     },
     "execution_count": 134,
     "metadata": {},
     "output_type": "execute_result"
    },
    {
     "data": {
      "image/png": "[encoded data removed]",
      "text/plain": [
       "<Figure size 432x288 with 1 Axes>"
      ]
     },
     "metadata": {
      "needs_background": "light"
     },
     "output_type": "display_data"
    }
   ],
   "source": [
    "sns.distplot(salary_df['bias'],  kde=False, rug=True)"
   ]
  },
  {
   "cell_type": "markdown",
   "metadata": {},
   "source": [
    "Bias(of predicted values)  is almost normally distributed "
   ]
  },
  {
   "cell_type": "code",
   "execution_count": 135,
   "metadata": {},
   "outputs": [
    {
     "data": {
      "image/png": "[encoded data removed]",
      "text/plain": [
       "<Figure size 432x288 with 1 Axes>"
      ]
     },
     "metadata": {
      "needs_background": "light"
     },
     "output_type": "display_data"
    }
   ],
   "source": [
    "\n",
    "ax = sns.scatterplot(x='true_salary', y='bias', data=salary_df)"
   ]
  },
  {
   "cell_type": "markdown",
   "metadata": {},
   "source": [
    "This plot indicates that the bias increases with an increase in salary. In other words, it means that people with higher salaries are being overpaid. \n",
    "\n",
    "Key takeaways:\n",
    "- The company treats its employees fairly. However, there's a bias in representation of females across all the departments. \n",
    "- The HR should consider hiring more women in the engineering and marketing departments and more men in HR to increase diversity.\n",
    "- Also, since people with higher salaries are bein overpaid, it might help to lower down their salaries to increase fairness in the workforce."
   ]
  },
  {
   "cell_type": "code",
   "execution_count": null,
   "metadata": {},
   "outputs": [],
   "source": []
  }
 ],
 "metadata": {
  "kernelspec": {
   "display_name": "Python 3",
   "language": "python",
   "name": "python3"
  },
  "language_info": {
   "codemirror_mode": {
    "name": "ipython",
    "version": 3
   },
   "file_extension": ".py",
   "mimetype": "text/x-python",
   "name": "python",
   "nbconvert_exporter": "python",
   "pygments_lexer": "ipython3",
   "version": "3.7.3"
  }
 },
 "nbformat": 4,
 "nbformat_minor": 2
}
